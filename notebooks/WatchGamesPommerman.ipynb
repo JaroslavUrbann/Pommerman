{
  "nbformat": 4,
  "nbformat_minor": 0,
  "metadata": {
    "colab": {
      "name": "WatchGamesPommerman.ipynb",
      "version": "0.3.2",
      "provenance": [],
      "collapsed_sections": []
    },
    "language_info": {
      "codemirror_mode": {
        "name": "ipython",
        "version": 3
      },
      "file_extension": ".py",
      "mimetype": "text/x-python",
      "name": "python",
      "nbconvert_exporter": "python",
      "pygments_lexer": "ipython3",
      "version": "3.6.7"
    },
    "kernelspec": {
      "display_name": "Python 3",
      "language": "python",
      "name": "python3"
    }
  },
  "cells": [
    {
      "cell_type": "code",
      "metadata": {
        "colab_type": "code",
        "hide_input": false,
        "id": "iAXfL2O8iEzh",
        "colab": {}
      },
      "source": [
        "%config IPCompleter.greedy=True\n",
        "\n",
        "!git clone https://github.com/MultiAgentLearning/playground ~/playground\n",
        "%cd ~/playground\n",
        "!pip install -U .\n",
        "\n",
        "!git clone https://github.com/JaroslavUrbann/Pommerman.git /content/Pommerman\n",
        "%cd /content/Pommerman\n",
        "\n",
        "!pip3 install -r requirements.txt"
      ],
      "execution_count": 0,
      "outputs": []
    },
    {
      "cell_type": "code",
      "metadata": {
        "code_folding": [],
        "colab_type": "code",
        "hide_input": false,
        "id": "chfG8c4Ty0Ku",
        "colab": {}
      },
      "source": [
        "# Class that creates and displays a video\n",
        "%cd /content/Pommerman\n",
        "import cv2\n",
        "import numpy as np\n",
        "from PIL import Image\n",
        "import os\n",
        "import base64\n",
        "from IPython.display import HTML\n",
        "import time\n",
        "\n",
        "class VideoMaker:\n",
        "    _coded_frames = []\n",
        "    _sprite_folder = \"/content/Pommerman/CustomSprites\"\n",
        "    _mp4_path = \"Videos/vid.mp4\"\n",
        "    _video_path = \"Videos/video.mp4\"\n",
        "    _mappings = {\n",
        "        \"231, 76, 60\": \"GreenBomberman.png\",\n",
        "        \"46, 139, 87\": \"RedBomberman.png\",\n",
        "        \"65, 105, 225\": \"YellowBomberman.png\",\n",
        "        \"238, 130, 238\": \"BlueBomberman.png\",\n",
        "        \"240, 248, 255\": \"BackgroundTile.png\",\n",
        "        \"128, 128, 128\": \"SolidBlock.png\",\n",
        "        \"210, 180, 140\": \"ExplodableBlock.png\",\n",
        "        \"255, 153, 51\": \"BombBackground.png\",\n",
        "        \"241, 196, 15\": \"FlameBackground.png\",\n",
        "        \"141, 137, 124\": \"fog\", # fog\n",
        "        \"153, 153, 255\": \"BombPowerupBackground.png\",\n",
        "        \"153, 204, 204\": \"FlamePowerupBackground.png\",\n",
        "        \"97, 169, 169\": \"SpeedPowerupBackground.png\",\n",
        "        \"48, 117, 117\": \"agent\" # dummy agent\n",
        "    }\n",
        "\n",
        "    def add_coded_frame(self, frame):\n",
        "        self._coded_frames.append(frame)\n",
        "    \n",
        "    def _decode_square(self, code):\n",
        "        key = ', '.join([str(int(n)) for n in code])\n",
        "        path = os.path.join(self._sprite_folder, self._mappings[key])\n",
        "        img = Image.open(path).convert('RGB')\n",
        "        return np.array(img)\n",
        "\n",
        "    def _decode_frame(self, frame):\n",
        "        hd_frame = np.zeros((64 * 11, 64 * 11, 3), dtype=\"uint8\")\n",
        "        for y in range(11):\n",
        "            for x in range(11):\n",
        "                square = self._decode_square(frame[y, x])\n",
        "                hd_frame[y * 64:(y + 1) * 64, x * 64:(x + 1) * 64] = square\n",
        "        return hd_frame\n",
        "\n",
        "    def _create_video(self):\n",
        "        out = cv2.VideoWriter(self._mp4_path, cv2.VideoWriter_fourcc(*'mp4v'), 10, (64 * 11, 64 * 11))\n",
        "        for i in range(len(self._coded_frames)):\n",
        "            next_frame = self._decode_frame(self._coded_frames[i])\n",
        "            out.write(next_frame)\n",
        "#             print(\"next frame \" + str(i))\n",
        "        out.release()\n",
        "\n",
        "    def show_video(self):\n",
        "        self._create_video()\n",
        "        os.system(\"ffmpeg -i \" + self._mp4_path + \" -vcodec libx264 \" + self._video_path + \" -y\")\n",
        "        os.system(\"rm \" + self._mp4_path)\n",
        "        video = open(self._video_path, \"rb\").read()\n",
        "        os.system(\"rm \" + self._video_path)\n",
        "        encoded = base64.b64encode(video)\n",
        "        return HTML(data='''<video alt=\"test\" autoplay \n",
        "                 loop controls style=\"height: 704px;width: 704px;\">\n",
        "                 <source src=\"data:video/mp4;base64,{0}\" type=\"video/mp4\" />\n",
        "              </video>'''.format(encoded.decode('ascii')))"
      ],
      "execution_count": 0,
      "outputs": []
    },
    {
      "cell_type": "code",
      "metadata": {
        "code_folding": [],
        "colab_type": "code",
        "id": "lafGezqLkDqZ",
        "colab": {}
      },
      "source": [
        "from PIL import Image\n",
        "from IPython import display\n",
        "import pommerman\n",
        "from pommerman import agents\n",
        "import matplotlib.pyplot as plt\n",
        "%matplotlib inline\n",
        "\n",
        "from pretraining.large_network import LargeNetwork\n",
        "from pretraining import pretraining_game_env, pretraining_database\n",
        "from agents.LN_agent import LNAgent\n",
        "from testing.testing_game_env import test_network\n",
        "import gdrive_auth\n",
        "\n",
        "drive = gdrive_auth.get_drive()\n",
        "LN = LargeNetwork(drive=drive)\n",
        "LN.load_model(model_id=\"\", log_id=\"\")\n",
        "# LN.init_model(\"\")\n",
        "kwargs1 = {\"a_id\": 1, \"n_id\": 1, \"LN\": LN}\n",
        "kwargs2 = {\"a_id\": 2, \"n_id\": 1, \"LN\": LN}\n",
        "agent1 = LNAgent\n",
        "agent2 = LNAgent"
      ],
      "execution_count": 0,
      "outputs": []
    },
    {
      "cell_type": "code",
      "metadata": {
        "id": "3Mx7P5lE_HeC",
        "colab_type": "code",
        "colab": {}
      },
      "source": [
        "agent_list = [\n",
        "    agents.SimpleAgent(),\n",
        "    agent1(**kwargs1),\n",
        "    agents.SimpleAgent(),\n",
        "    agent2(**kwargs2),\n",
        "]\n",
        "\n",
        "env = pommerman.make('PommeFFA-v1', agent_list)\n",
        "\n",
        "VidMaker = VideoMaker()\n",
        "\n",
        "for i_episode in range(3):\n",
        "    state = env.reset()\n",
        "    done = False\n",
        "    while not done:\n",
        "        frame = env.render(mode='rgb_array')\n",
        "        VidMaker.add_coded_frame(frame)\n",
        "\n",
        "        actions = env.act(state)\n",
        "        state, reward, done, info = env.step(actions)\n",
        "env.close()\n",
        "VidMaker.show_video()"
      ],
      "execution_count": 0,
      "outputs": []
    },
    {
      "cell_type": "code",
      "metadata": {
        "id": "ZUajOrgPGqiZ",
        "colab_type": "code",
        "colab": {}
      },
      "source": [
        "from PIL import Image\n",
        "im = Image.open(\"/content/Pommerman/CustomSprites/BackgroundTile.png\").convert('RGB')\n",
        "im.show()"
      ],
      "execution_count": 0,
      "outputs": []
    }
  ]
}